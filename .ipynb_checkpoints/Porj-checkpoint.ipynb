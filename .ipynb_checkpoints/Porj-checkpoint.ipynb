{
 "cells": [
  {
   "cell_type": "code",
   "execution_count": 31,
   "id": "infrared-glenn",
   "metadata": {},
   "outputs": [],
   "source": [
    "import pandas as pd\n",
    "import matplotlib.pyplot as plt\n",
    "import numpy as np\n",
    "from sklearn.linear_model import LinearRegression\n",
    "from sklearn.model_selection import train_test_split\n",
    "from sklearn.model_selection import GridSearchCV\n",
    "from sklearn.model_selection import cross_val_score, cross_val_predict\n",
    "from sklearn.preprocessing import PolynomialFeatures\n",
    "from sklearn.linear_model import Ridge\n",
    "from sklearn.metrics import mean_squared_error"
   ]
  },
  {
   "cell_type": "code",
   "execution_count": 2,
   "id": "anticipated-steering",
   "metadata": {},
   "outputs": [],
   "source": [
    "def prepareData(df):\n",
    "    capMln = []\n",
    "    volMln=[]\n",
    "    df=df.drop(['Name', 'SNo'], axis=1)\n",
    "    for i in range(len(df['Marketcap'])):\n",
    "        capMln.append(round(df['Marketcap'][i]/1000000, 6))\n",
    "        volMln.append(round(df['Volume'][i]/1000000, 6))\n",
    "    df['Marketcap']=capMln\n",
    "    df['Volume']=volMln\n",
    "    return df"
   ]
  },
  {
   "cell_type": "code",
   "execution_count": 3,
   "id": "genetic-kuwait",
   "metadata": {},
   "outputs": [],
   "source": [
    "bitcoin = prepareData(pd.read_csv('coin_Bitcoin.csv'))"
   ]
  },
  {
   "cell_type": "code",
   "execution_count": 4,
   "id": "amino-bearing",
   "metadata": {},
   "outputs": [],
   "source": [
    "link = prepareData(pd.read_csv('coin_ChainLink.csv'))"
   ]
  },
  {
   "cell_type": "code",
   "execution_count": 5,
   "id": "personal-siemens",
   "metadata": {},
   "outputs": [],
   "source": [
    "tron = prepareData(pd.read_csv('coin_Tron.csv'))"
   ]
  },
  {
   "cell_type": "code",
   "execution_count": 48,
   "id": "valuable-cotton",
   "metadata": {},
   "outputs": [],
   "source": [
    "xrp = prepareData(pd.read_csv('coin_XRP.csv'))"
   ]
  },
  {
   "cell_type": "code",
   "execution_count": 7,
   "id": "considered-handbook",
   "metadata": {},
   "outputs": [],
   "source": [
    "eth = prepareData(pd.read_csv('coin_Ethereum.csv'))"
   ]
  },
  {
   "cell_type": "code",
   "execution_count": 8,
   "id": "limiting-appeal",
   "metadata": {},
   "outputs": [],
   "source": [
    "stell = prepareData(pd.read_csv('coin_Stellar.csv'))"
   ]
  },
  {
   "cell_type": "code",
   "execution_count": 9,
   "id": "prescription-process",
   "metadata": {},
   "outputs": [],
   "source": [
    "coins = pd.concat([bitcoin, link, tron, xrp, eth, stell])"
   ]
  },
  {
   "cell_type": "code",
   "execution_count": 39,
   "id": "enabling-nickel",
   "metadata": {},
   "outputs": [
    {
     "data": {
      "text/html": [
       "<div>\n",
       "<style scoped>\n",
       "    .dataframe tbody tr th:only-of-type {\n",
       "        vertical-align: middle;\n",
       "    }\n",
       "\n",
       "    .dataframe tbody tr th {\n",
       "        vertical-align: top;\n",
       "    }\n",
       "\n",
       "    .dataframe thead th {\n",
       "        text-align: right;\n",
       "    }\n",
       "</style>\n",
       "<table border=\"1\" class=\"dataframe\">\n",
       "  <thead>\n",
       "    <tr style=\"text-align: right;\">\n",
       "      <th></th>\n",
       "      <th>Symbol</th>\n",
       "      <th>Date</th>\n",
       "      <th>High</th>\n",
       "      <th>Low</th>\n",
       "      <th>Open</th>\n",
       "      <th>Close</th>\n",
       "      <th>Volume</th>\n",
       "      <th>Marketcap</th>\n",
       "    </tr>\n",
       "  </thead>\n",
       "  <tbody>\n",
       "    <tr>\n",
       "      <th>0</th>\n",
       "      <td>XRP</td>\n",
       "      <td>2013-08-05 23:59:59</td>\n",
       "      <td>0.005980</td>\n",
       "      <td>0.005613</td>\n",
       "      <td>0.005875</td>\n",
       "      <td>0.005613</td>\n",
       "      <td>0.000000</td>\n",
       "      <td>43.879157</td>\n",
       "    </tr>\n",
       "    <tr>\n",
       "      <th>1</th>\n",
       "      <td>XRP</td>\n",
       "      <td>2013-08-06 23:59:59</td>\n",
       "      <td>0.005661</td>\n",
       "      <td>0.004629</td>\n",
       "      <td>0.005637</td>\n",
       "      <td>0.004680</td>\n",
       "      <td>0.000000</td>\n",
       "      <td>36.591008</td>\n",
       "    </tr>\n",
       "    <tr>\n",
       "      <th>2</th>\n",
       "      <td>XRP</td>\n",
       "      <td>2013-08-07 23:59:59</td>\n",
       "      <td>0.004682</td>\n",
       "      <td>0.004333</td>\n",
       "      <td>0.004669</td>\n",
       "      <td>0.004417</td>\n",
       "      <td>0.000000</td>\n",
       "      <td>34.534121</td>\n",
       "    </tr>\n",
       "    <tr>\n",
       "      <th>3</th>\n",
       "      <td>XRP</td>\n",
       "      <td>2013-08-08 23:59:59</td>\n",
       "      <td>0.004424</td>\n",
       "      <td>0.004175</td>\n",
       "      <td>0.004397</td>\n",
       "      <td>0.004254</td>\n",
       "      <td>0.000000</td>\n",
       "      <td>33.258632</td>\n",
       "    </tr>\n",
       "    <tr>\n",
       "      <th>4</th>\n",
       "      <td>XRP</td>\n",
       "      <td>2013-08-09 23:59:59</td>\n",
       "      <td>0.004367</td>\n",
       "      <td>0.004253</td>\n",
       "      <td>0.004257</td>\n",
       "      <td>0.004291</td>\n",
       "      <td>0.000000</td>\n",
       "      <td>33.547503</td>\n",
       "    </tr>\n",
       "    <tr>\n",
       "      <th>...</th>\n",
       "      <td>...</td>\n",
       "      <td>...</td>\n",
       "      <td>...</td>\n",
       "      <td>...</td>\n",
       "      <td>...</td>\n",
       "      <td>...</td>\n",
       "      <td>...</td>\n",
       "      <td>...</td>\n",
       "    </tr>\n",
       "    <tr>\n",
       "      <th>2759</th>\n",
       "      <td>XRP</td>\n",
       "      <td>2021-02-23 23:59:59</td>\n",
       "      <td>0.570989</td>\n",
       "      <td>0.379302</td>\n",
       "      <td>0.570989</td>\n",
       "      <td>0.473563</td>\n",
       "      <td>14359.021786</td>\n",
       "      <td>21501.649334</td>\n",
       "    </tr>\n",
       "    <tr>\n",
       "      <th>2760</th>\n",
       "      <td>XRP</td>\n",
       "      <td>2021-02-24 23:59:59</td>\n",
       "      <td>0.499370</td>\n",
       "      <td>0.454759</td>\n",
       "      <td>0.474201</td>\n",
       "      <td>0.471832</td>\n",
       "      <td>8015.468859</td>\n",
       "      <td>21423.051553</td>\n",
       "    </tr>\n",
       "    <tr>\n",
       "      <th>2761</th>\n",
       "      <td>XRP</td>\n",
       "      <td>2021-02-25 23:59:59</td>\n",
       "      <td>0.482517</td>\n",
       "      <td>0.429103</td>\n",
       "      <td>0.471776</td>\n",
       "      <td>0.434524</td>\n",
       "      <td>5952.353924</td>\n",
       "      <td>19729.119199</td>\n",
       "    </tr>\n",
       "    <tr>\n",
       "      <th>2762</th>\n",
       "      <td>XRP</td>\n",
       "      <td>2021-02-26 23:59:59</td>\n",
       "      <td>0.450440</td>\n",
       "      <td>0.415559</td>\n",
       "      <td>0.434941</td>\n",
       "      <td>0.427900</td>\n",
       "      <td>6476.253874</td>\n",
       "      <td>19428.392307</td>\n",
       "    </tr>\n",
       "    <tr>\n",
       "      <th>2763</th>\n",
       "      <td>XRP</td>\n",
       "      <td>2021-02-27 23:59:59</td>\n",
       "      <td>0.457596</td>\n",
       "      <td>0.427904</td>\n",
       "      <td>0.427904</td>\n",
       "      <td>0.437809</td>\n",
       "      <td>4756.622833</td>\n",
       "      <td>19878.291691</td>\n",
       "    </tr>\n",
       "  </tbody>\n",
       "</table>\n",
       "<p>2764 rows × 8 columns</p>\n",
       "</div>"
      ],
      "text/plain": [
       "     Symbol                 Date      High       Low      Open     Close  \\\n",
       "0       XRP  2013-08-05 23:59:59  0.005980  0.005613  0.005875  0.005613   \n",
       "1       XRP  2013-08-06 23:59:59  0.005661  0.004629  0.005637  0.004680   \n",
       "2       XRP  2013-08-07 23:59:59  0.004682  0.004333  0.004669  0.004417   \n",
       "3       XRP  2013-08-08 23:59:59  0.004424  0.004175  0.004397  0.004254   \n",
       "4       XRP  2013-08-09 23:59:59  0.004367  0.004253  0.004257  0.004291   \n",
       "...     ...                  ...       ...       ...       ...       ...   \n",
       "2759    XRP  2021-02-23 23:59:59  0.570989  0.379302  0.570989  0.473563   \n",
       "2760    XRP  2021-02-24 23:59:59  0.499370  0.454759  0.474201  0.471832   \n",
       "2761    XRP  2021-02-25 23:59:59  0.482517  0.429103  0.471776  0.434524   \n",
       "2762    XRP  2021-02-26 23:59:59  0.450440  0.415559  0.434941  0.427900   \n",
       "2763    XRP  2021-02-27 23:59:59  0.457596  0.427904  0.427904  0.437809   \n",
       "\n",
       "            Volume     Marketcap  \n",
       "0         0.000000     43.879157  \n",
       "1         0.000000     36.591008  \n",
       "2         0.000000     34.534121  \n",
       "3         0.000000     33.258632  \n",
       "4         0.000000     33.547503  \n",
       "...            ...           ...  \n",
       "2759  14359.021786  21501.649334  \n",
       "2760   8015.468859  21423.051553  \n",
       "2761   5952.353924  19729.119199  \n",
       "2762   6476.253874  19428.392307  \n",
       "2763   4756.622833  19878.291691  \n",
       "\n",
       "[2764 rows x 8 columns]"
      ]
     },
     "execution_count": 39,
     "metadata": {},
     "output_type": "execute_result"
    }
   ],
   "source": [
    "xrp"
   ]
  },
  {
   "cell_type": "code",
   "execution_count": 11,
   "id": "dated-dealer",
   "metadata": {},
   "outputs": [],
   "source": [
    "# def plotCoins(coins):\n",
    "#     numberOfCoins=len(coins)\n",
    "#     fig, axs = plt.subplots(numberOfCoins, 2)\n",
    "#     fig.set_figwidth(20)\n",
    "#     fig.set_figheight(numberOfCoins*15)\n",
    "#     fig.tight_layout(h_pad=5)\n",
    "#     for i in range(len(coins)):\n",
    "#         c = np.random.rand(3,)\n",
    "#         axs[i][0].scatter(coins[i]['Low'], coins[i]['Marketcap'], color=c)\n",
    "#         axs[i][0].set_title(coins[i]['Symbol'][0], fontsize=22)\n",
    "#         axs[i][0].set_xlabel('Low', fontsize=18)\n",
    "#         axs[i][0].set_ylabel('MarketCap', fontsize=18)\n",
    "#         axs[i][1].scatter(coins[i]['High'], coins[i]['Marketcap'], color =c)\n",
    "#         axs[i][1].set_title(coins[i]['Symbol'][0], fontsize=22)\n",
    "#         axs[i][1].set_xlabel('High', fontsize=18)\n",
    "#         axs[i][1].set_ylabel('MarketCap', fontsize=18)\n",
    "        "
   ]
  },
  {
   "cell_type": "code",
   "execution_count": 49,
   "id": "respiratory-automation",
   "metadata": {},
   "outputs": [],
   "source": [
    "# plotCoins([tron, xrp, eth, stell, bitcoin, link])"
   ]
  },
  {
   "cell_type": "code",
   "execution_count": 12,
   "id": "adequate-breathing",
   "metadata": {},
   "outputs": [],
   "source": [
    "# coins_v2 = pd.get_dummies(coins['Symbol'])\n",
    "# coins=pd.concat([coins,coins_v2], axis=1)"
   ]
  },
  {
   "cell_type": "code",
   "execution_count": 13,
   "id": "liked-anime",
   "metadata": {},
   "outputs": [],
   "source": [
    "y = xrp['Close']\n",
    "xrp = xrp.drop(['Close', 'Symbol', 'Date'], axis=1)"
   ]
  },
  {
   "cell_type": "code",
   "execution_count": 60,
   "id": "governmental-terrain",
   "metadata": {},
   "outputs": [],
   "source": [
    "# Linear regression\n",
    "def linearRegression(coinDf):\n",
    "    y = coinDf['Close']\n",
    "    coinDf = coinDf.drop(['Close', 'Symbol', 'Date'], axis=1)\n",
    "    model = LinearRegression()\n",
    "    parameters = {'fit_intercept':[True, False], 'normalize':[True, False]}\n",
    "    grid=GridSearchCV(model, parameters)\n",
    "    grid.fit(coinDf, y)\n",
    "    pred_y=cross_val_predict(grid, coinDf, y, cv=10)\n",
    "    plt.scatter(pred_y, y)\n",
    "    err = np.mean(mean_squared_error(y, pred_y))\n",
    "    return grid.best_estimator_, err"
   ]
  },
  {
   "cell_type": "code",
   "execution_count": 61,
   "id": "appreciated-diabetes",
   "metadata": {},
   "outputs": [
    {
     "data": {
      "text/plain": [
       "(LinearRegression(fit_intercept=False, normalize=True), 0.00031281917907607644)"
      ]
     },
     "execution_count": 61,
     "metadata": {},
     "output_type": "execute_result"
    },
    {
     "data": {
      "image/png": "[encoded data removed]",
      "text/plain": [
       "<Figure size 432x288 with 1 Axes>"
      ]
     },
     "metadata": {
      "needs_background": "light"
     },
     "output_type": "display_data"
    }
   ],
   "source": [
    "linearRegression(xrp)\n",
    "# fit_intercept:True, normalize: True"
   ]
  },
  {
   "cell_type": "code",
   "execution_count": 69,
   "id": "registered-accordance",
   "metadata": {},
   "outputs": [],
   "source": [
    "# Polynomial regression\n",
    "def polynomialRegression(coinDf):\n",
    "#     parameters = {'degree':range(2,5), 'interaction_only':[True, False]}\n",
    "    y = coinDf['Close']\n",
    "    coinDf = coinDf.drop(['Close', 'Symbol', 'Date'], axis=1)\n",
    "    model = PolynomialFeatures(degree=3)\n",
    "#     grid=GridSearchCV(model, parameters)\n",
    "    coinDf=model.fit_transform(coinDf)\n",
    "    rgr = LinearRegression();\n",
    "    rgr.fit(coinDf, y)\n",
    "#     pred_train=cross_val_predict(grid, x_train, y_train, cv=10)\n",
    "    pred_y=rgr.predict(coinDf)\n",
    "    plt.scatter(pred_y, y)\n",
    "    err = np.mean(mean_squared_error(y, pred_y))\n",
    "    return err\n",
    "#     return grid.best_estimator_"
   ]
  },
  {
   "cell_type": "code",
   "execution_count": 70,
   "id": "large-catalyst",
   "metadata": {},
   "outputs": [
    {
     "data": {
      "text/plain": [
       "4.3272413009041146e-05"
      ]
     },
     "execution_count": 70,
     "metadata": {},
     "output_type": "execute_result"
    },
    {
     "data": {
      "image/png": "[encoded data removed]",
      "text/plain": [
       "<Figure size 432x288 with 1 Axes>"
      ]
     },
     "metadata": {
      "needs_background": "light"
     },
     "output_type": "display_data"
    }
   ],
   "source": [
    "polynomialRegression(xrp)"
   ]
  },
  {
   "cell_type": "code",
   "execution_count": 67,
   "id": "legal-substance",
   "metadata": {},
   "outputs": [],
   "source": [
    "# Ridge\n",
    "def ridge(coinDf):\n",
    "    y = coinDf['Close']\n",
    "    coinDf = coinDf.drop(['Close', 'Symbol', 'Date'], axis=1)\n",
    "    model = Ridge()\n",
    "    parameters = {'alpha':range(1,5), 'fit_intercept':[True, False],'normalize':[True, False]}\n",
    "    grid=GridSearchCV(model, parameters)\n",
    "    grid.fit(coinDf, y)\n",
    "    pred_y=cross_val_predict(grid, coinDf, y, cv=10)\n",
    "    plt.scatter(pred_y, y)\n",
    "    err = np.mean(mean_squared_error(y, pred_y))\n",
    "    return grid.best_estimator_, err"
   ]
  },
  {
   "cell_type": "code",
   "execution_count": 68,
   "id": "wrong-dance",
   "metadata": {},
   "outputs": [
    {
     "data": {
      "text/plain": [
       "(Ridge(alpha=1, fit_intercept=False, normalize=True), 0.0003125487620465015)"
      ]
     },
     "execution_count": 68,
     "metadata": {},
     "output_type": "execute_result"
    },
    {
     "data": {
      "image/png": "[encoded data removed]",
      "text/plain": [
       "<Figure size 432x288 with 1 Axes>"
      ]
     },
     "metadata": {
      "needs_background": "light"
     },
     "output_type": "display_data"
    }
   ],
   "source": [
    "ridge(xrp)"
   ]
  },
  {
   "cell_type": "code",
   "execution_count": null,
   "id": "opened-doctor",
   "metadata": {},
   "outputs": [],
   "source": [
    "### text\n",
    "# The best model for this dataset according to the mean squared error is polynomial"
   ]
  }
 ],
 "metadata": {
  "kernelspec": {
   "display_name": "Python 3",
   "language": "python",
   "name": "python3"
  },
  "language_info": {
   "codemirror_mode": {
    "name": "ipython",
    "version": 3
   },
   "file_extension": ".py",
   "mimetype": "text/x-python",
   "name": "python",
   "nbconvert_exporter": "python",
   "pygments_lexer": "ipython3",
   "version": "3.9.4"
  }
 },
 "nbformat": 4,
 "nbformat_minor": 5
}
